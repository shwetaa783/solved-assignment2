{
  "nbformat": 4,
  "nbformat_minor": 0,
  "metadata": {
    "colab": {
      "provenance": []
    },
    "kernelspec": {
      "name": "python3",
      "display_name": "Python 3"
    },
    "language_info": {
      "name": "python"
    }
  },
  "cells": [
    {
      "cell_type": "code",
      "execution_count": 2,
      "metadata": {
        "id": "4AqMYA_Xy4JN"
      },
      "outputs": [],
      "source": [
        "#what is the purpose of the len()function in python,and how can it be used with strings?\n",
        "#len function used in pyhton returns the number of the string.example-"
      ]
    },
    {
      "cell_type": "code",
      "source": [
        "a='shweta'\n",
        "len(a)"
      ],
      "metadata": {
        "colab": {
          "base_uri": "https://localhost:8080/"
        },
        "id": "lA_T598qz32-",
        "outputId": "004a680d-69bd-4386-c5e6-7a4b41212649"
      },
      "execution_count": 3,
      "outputs": [
        {
          "output_type": "execute_result",
          "data": {
            "text/plain": [
              "6"
            ]
          },
          "metadata": {},
          "execution_count": 3
        }
      ]
    },
    {
      "cell_type": "code",
      "source": [
        "#how can you concatenate two or more strings in python ,and can you provide an example of string concatenation?"
      ],
      "metadata": {
        "id": "bb7uEF_X0VGH"
      },
      "execution_count": 4,
      "outputs": []
    },
    {
      "cell_type": "code",
      "source": [
        "a='shweta'\n",
        "b='agrawal'\n",
        "print(a+b)\n"
      ],
      "metadata": {
        "colab": {
          "base_uri": "https://localhost:8080/"
        },
        "id": "m9s8-Hhu0sI-",
        "outputId": "2186d404-6810-4e07-f887-2784b1a7137b"
      },
      "execution_count": 10,
      "outputs": [
        {
          "output_type": "stream",
          "name": "stdout",
          "text": [
            "shwetaagrawal\n"
          ]
        }
      ]
    },
    {
      "cell_type": "code",
      "source": [
        "#what is string slicing in python ,and how can you extract a portion of a string using this method?"
      ],
      "metadata": {
        "id": "1zYecV461Nkv"
      },
      "execution_count": 11,
      "outputs": []
    },
    {
      "cell_type": "code",
      "source": [
        "a=[1,2,3,'shweta',2.3]"
      ],
      "metadata": {
        "id": "aOWMXn8-1Xn_"
      },
      "execution_count": 12,
      "outputs": []
    },
    {
      "cell_type": "code",
      "source": [
        "a[0]"
      ],
      "metadata": {
        "colab": {
          "base_uri": "https://localhost:8080/"
        },
        "id": "pwbr38sa3Rzg",
        "outputId": "1b84199c-52bc-4e8e-8a4a-44bdacf74f9a"
      },
      "execution_count": 14,
      "outputs": [
        {
          "output_type": "execute_result",
          "data": {
            "text/plain": [
              "1"
            ]
          },
          "metadata": {},
          "execution_count": 14
        }
      ]
    },
    {
      "cell_type": "code",
      "source": [
        "a[0:2]"
      ],
      "metadata": {
        "colab": {
          "base_uri": "https://localhost:8080/"
        },
        "id": "V3yMO2TN3V12",
        "outputId": "c14cbabc-cf20-4123-c2d8-19de8f33fbe0"
      },
      "execution_count": 15,
      "outputs": [
        {
          "output_type": "execute_result",
          "data": {
            "text/plain": [
              "[1, 2]"
            ]
          },
          "metadata": {},
          "execution_count": 15
        }
      ]
    },
    {
      "cell_type": "code",
      "source": [
        "#how can you change the case of string in python,and can you provide examples of both making a string all uppercase and all lowercase?"
      ],
      "metadata": {
        "id": "rhGgzF3W3e4c"
      },
      "execution_count": 16,
      "outputs": []
    },
    {
      "cell_type": "code",
      "source": [
        "name='shweta'"
      ],
      "metadata": {
        "id": "Qdz7vH0j4AUr"
      },
      "execution_count": 46,
      "outputs": []
    },
    {
      "cell_type": "code",
      "source": [
        "name.upper()"
      ],
      "metadata": {
        "colab": {
          "base_uri": "https://localhost:8080/",
          "height": 35
        },
        "id": "NaVNUHdt4Qr-",
        "outputId": "801e1cbd-ca37-4e48-e949-cbbd2b2047d4"
      },
      "execution_count": 47,
      "outputs": [
        {
          "output_type": "execute_result",
          "data": {
            "text/plain": [
              "'SHWETA'"
            ],
            "application/vnd.google.colaboratory.intrinsic+json": {
              "type": "string"
            }
          },
          "metadata": {},
          "execution_count": 47
        }
      ]
    },
    {
      "cell_type": "code",
      "source": [
        "name.lower()"
      ],
      "metadata": {
        "colab": {
          "base_uri": "https://localhost:8080/",
          "height": 35
        },
        "id": "vi6usyM14VFo",
        "outputId": "b3599ac9-c732-4661-a0f1-f470e4ba10b6"
      },
      "execution_count": 48,
      "outputs": [
        {
          "output_type": "execute_result",
          "data": {
            "text/plain": [
              "'shweta'"
            ],
            "application/vnd.google.colaboratory.intrinsic+json": {
              "type": "string"
            }
          },
          "metadata": {},
          "execution_count": 48
        }
      ]
    },
    {
      "cell_type": "markdown",
      "source": [],
      "metadata": {
        "id": "3WXJwkfz6FbL"
      }
    },
    {
      "cell_type": "code",
      "source": [
        "#what does the split method do in python and how can you split a string using a specific delimiter?"
      ],
      "metadata": {
        "id": "IPN5HFBc5POb"
      },
      "execution_count": 51,
      "outputs": []
    },
    {
      "cell_type": "code",
      "source": [
        "string='pwskills'"
      ],
      "metadata": {
        "id": "RWpH1nn8A6n0"
      },
      "execution_count": 52,
      "outputs": []
    },
    {
      "cell_type": "code",
      "source": [
        "string[1:]"
      ],
      "metadata": {
        "colab": {
          "base_uri": "https://localhost:8080/",
          "height": 35
        },
        "id": "JtjZy4iOBq91",
        "outputId": "ff82c404-4b80-4c6a-ec89-e3b3f0d075eb"
      },
      "execution_count": 54,
      "outputs": [
        {
          "output_type": "execute_result",
          "data": {
            "text/plain": [
              "'wskills'"
            ],
            "application/vnd.google.colaboratory.intrinsic+json": {
              "type": "string"
            }
          },
          "metadata": {},
          "execution_count": 54
        }
      ]
    },
    {
      "cell_type": "code",
      "source": [],
      "metadata": {
        "id": "chUL-GxOB2h1"
      },
      "execution_count": null,
      "outputs": []
    }
  ]
}